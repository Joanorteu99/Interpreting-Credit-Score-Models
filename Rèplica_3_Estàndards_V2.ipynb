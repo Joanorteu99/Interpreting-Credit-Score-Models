{
 "cells": [
  {
   "cell_type": "markdown",
   "id": "13e04234",
   "metadata": {},
   "source": [
    "<table style=\"width: 100%;\">\n",
    "  <tr>\n",
    "    <td style=\"text-align: left;\"><h1 style=\"font-size: 30px;\">SVM, Logistic Regression, Decision Tree and Ranodom Forest Code</h1></td>\n",
    "    <td style=\"text-align: right;\"><img src=\"https://upload.wikimedia.org/wikipedia/commons/e/e6/Logo_Universitat_de_Barcelona.png\" alt=\"University of Barcelona Logo\" width=\"200\" /></td>\n",
    "  </tr>\n",
    "</table>"
   ]
  },
  {
   "cell_type": "markdown",
   "id": "fd25de09",
   "metadata": {},
   "source": [
    "## Model making"
   ]
  },
  {
   "cell_type": "markdown",
   "id": "47f5b9f8",
   "metadata": {},
   "source": [
    "### Imports"
   ]
  },
  {
   "cell_type": "code",
   "execution_count": 1,
   "id": "66f4e95b",
   "metadata": {
    "ExecuteTime": {
     "end_time": "2023-11-22T23:01:39.525523Z",
     "start_time": "2023-11-22T23:01:36.822675Z"
    }
   },
   "outputs": [],
   "source": [
    "#!/usr/bin/env python\n",
    "# coding: utf-8\n",
    "\n",
    "import numpy as np\n",
    "import pandas as pd\n",
    "import matplotlib.pyplot as plt\n",
    "import seaborn as sns\n",
    "from tqdm import tqdm_notebook as tqdm #Visualising exectuion progress\n",
    "\n",
    "#for printing preatty\n",
    "from markdown import markdown\n",
    "from IPython.display import Markdown, HTML\n",
    "from rich import print\n",
    "\n",
    "# Eliminate warnings for presentation purpuses\n",
    "import warnings\n",
    "warnings.filterwarnings('ignore') #ignore all warnings, very messy\n",
    "#warnings.filterwarnings('default')\n",
    "pd.options.mode.chained_assignment = None\n",
    "\n",
    "#To be able to show matplotlib graphs and results in this JupyterNotebook\n",
    "get_ipython().run_line_magic('matplotlib', 'inline')"
   ]
  },
  {
   "cell_type": "code",
   "execution_count": 2,
   "id": "d1af4c26",
   "metadata": {
    "ExecuteTime": {
     "end_time": "2023-11-22T23:01:41.655518Z",
     "start_time": "2023-11-22T23:01:39.525523Z"
    }
   },
   "outputs": [],
   "source": [
    "# Load the database using the second row as the name of the features\n",
    "df=pd.read_excel(r'credit_cards.xls',engine='xlrd',header=1)\n",
    "\n",
    "X=df.drop('default payment next month',axis=1)\n",
    "y=df['default payment next month']\n"
   ]
  },
  {
   "cell_type": "code",
   "execution_count": 3,
   "id": "74170afc",
   "metadata": {
    "ExecuteTime": {
     "end_time": "2023-11-22T23:01:41.835622Z",
     "start_time": "2023-11-22T23:01:41.655518Z"
    }
   },
   "outputs": [
    {
     "data": {
      "text/html": [
       "<pre style=\"white-space:pre;overflow-x:auto;line-height:normal;font-family:Menlo,'DejaVu Sans Mono',consolas,'Courier New',monospace\">This is a snippet of the database being used\n",
       "</pre>\n"
      ],
      "text/plain": [
       "This is a snippet of the database being used\n"
      ]
     },
     "metadata": {},
     "output_type": "display_data"
    },
    {
     "data": {
      "text/html": [
       "<div>\n",
       "<style scoped>\n",
       "    .dataframe tbody tr th:only-of-type {\n",
       "        vertical-align: middle;\n",
       "    }\n",
       "\n",
       "    .dataframe tbody tr th {\n",
       "        vertical-align: top;\n",
       "    }\n",
       "\n",
       "    .dataframe thead th {\n",
       "        text-align: right;\n",
       "    }\n",
       "</style>\n",
       "<table border=\"1\" class=\"dataframe\">\n",
       "  <thead>\n",
       "    <tr style=\"text-align: right;\">\n",
       "      <th></th>\n",
       "      <th>ID</th>\n",
       "      <th>LIMIT_BAL</th>\n",
       "      <th>SEX</th>\n",
       "      <th>EDUCATION</th>\n",
       "      <th>MARRIAGE</th>\n",
       "      <th>AGE</th>\n",
       "      <th>PAY_0</th>\n",
       "      <th>PAY_2</th>\n",
       "      <th>PAY_3</th>\n",
       "      <th>PAY_4</th>\n",
       "      <th>...</th>\n",
       "      <th>BILL_AMT4</th>\n",
       "      <th>BILL_AMT5</th>\n",
       "      <th>BILL_AMT6</th>\n",
       "      <th>PAY_AMT1</th>\n",
       "      <th>PAY_AMT2</th>\n",
       "      <th>PAY_AMT3</th>\n",
       "      <th>PAY_AMT4</th>\n",
       "      <th>PAY_AMT5</th>\n",
       "      <th>PAY_AMT6</th>\n",
       "      <th>default payment next month</th>\n",
       "    </tr>\n",
       "  </thead>\n",
       "  <tbody>\n",
       "    <tr>\n",
       "      <th>0</th>\n",
       "      <td>1</td>\n",
       "      <td>20000</td>\n",
       "      <td>2</td>\n",
       "      <td>2</td>\n",
       "      <td>1</td>\n",
       "      <td>24</td>\n",
       "      <td>2</td>\n",
       "      <td>2</td>\n",
       "      <td>-1</td>\n",
       "      <td>-1</td>\n",
       "      <td>...</td>\n",
       "      <td>0</td>\n",
       "      <td>0</td>\n",
       "      <td>0</td>\n",
       "      <td>0</td>\n",
       "      <td>689</td>\n",
       "      <td>0</td>\n",
       "      <td>0</td>\n",
       "      <td>0</td>\n",
       "      <td>0</td>\n",
       "      <td>1</td>\n",
       "    </tr>\n",
       "    <tr>\n",
       "      <th>1</th>\n",
       "      <td>2</td>\n",
       "      <td>120000</td>\n",
       "      <td>2</td>\n",
       "      <td>2</td>\n",
       "      <td>2</td>\n",
       "      <td>26</td>\n",
       "      <td>-1</td>\n",
       "      <td>2</td>\n",
       "      <td>0</td>\n",
       "      <td>0</td>\n",
       "      <td>...</td>\n",
       "      <td>3272</td>\n",
       "      <td>3455</td>\n",
       "      <td>3261</td>\n",
       "      <td>0</td>\n",
       "      <td>1000</td>\n",
       "      <td>1000</td>\n",
       "      <td>1000</td>\n",
       "      <td>0</td>\n",
       "      <td>2000</td>\n",
       "      <td>1</td>\n",
       "    </tr>\n",
       "    <tr>\n",
       "      <th>2</th>\n",
       "      <td>3</td>\n",
       "      <td>90000</td>\n",
       "      <td>2</td>\n",
       "      <td>2</td>\n",
       "      <td>2</td>\n",
       "      <td>34</td>\n",
       "      <td>0</td>\n",
       "      <td>0</td>\n",
       "      <td>0</td>\n",
       "      <td>0</td>\n",
       "      <td>...</td>\n",
       "      <td>14331</td>\n",
       "      <td>14948</td>\n",
       "      <td>15549</td>\n",
       "      <td>1518</td>\n",
       "      <td>1500</td>\n",
       "      <td>1000</td>\n",
       "      <td>1000</td>\n",
       "      <td>1000</td>\n",
       "      <td>5000</td>\n",
       "      <td>0</td>\n",
       "    </tr>\n",
       "    <tr>\n",
       "      <th>3</th>\n",
       "      <td>4</td>\n",
       "      <td>50000</td>\n",
       "      <td>2</td>\n",
       "      <td>2</td>\n",
       "      <td>1</td>\n",
       "      <td>37</td>\n",
       "      <td>0</td>\n",
       "      <td>0</td>\n",
       "      <td>0</td>\n",
       "      <td>0</td>\n",
       "      <td>...</td>\n",
       "      <td>28314</td>\n",
       "      <td>28959</td>\n",
       "      <td>29547</td>\n",
       "      <td>2000</td>\n",
       "      <td>2019</td>\n",
       "      <td>1200</td>\n",
       "      <td>1100</td>\n",
       "      <td>1069</td>\n",
       "      <td>1000</td>\n",
       "      <td>0</td>\n",
       "    </tr>\n",
       "    <tr>\n",
       "      <th>4</th>\n",
       "      <td>5</td>\n",
       "      <td>50000</td>\n",
       "      <td>1</td>\n",
       "      <td>2</td>\n",
       "      <td>1</td>\n",
       "      <td>57</td>\n",
       "      <td>-1</td>\n",
       "      <td>0</td>\n",
       "      <td>-1</td>\n",
       "      <td>0</td>\n",
       "      <td>...</td>\n",
       "      <td>20940</td>\n",
       "      <td>19146</td>\n",
       "      <td>19131</td>\n",
       "      <td>2000</td>\n",
       "      <td>36681</td>\n",
       "      <td>10000</td>\n",
       "      <td>9000</td>\n",
       "      <td>689</td>\n",
       "      <td>679</td>\n",
       "      <td>0</td>\n",
       "    </tr>\n",
       "  </tbody>\n",
       "</table>\n",
       "<p>5 rows × 25 columns</p>\n",
       "</div>"
      ],
      "text/plain": [
       "   ID  LIMIT_BAL  SEX  EDUCATION  MARRIAGE  AGE  PAY_0  PAY_2  PAY_3  PAY_4  \\\n",
       "0   1      20000    2          2         1   24      2      2     -1     -1   \n",
       "1   2     120000    2          2         2   26     -1      2      0      0   \n",
       "2   3      90000    2          2         2   34      0      0      0      0   \n",
       "3   4      50000    2          2         1   37      0      0      0      0   \n",
       "4   5      50000    1          2         1   57     -1      0     -1      0   \n",
       "\n",
       "   ...  BILL_AMT4  BILL_AMT5  BILL_AMT6  PAY_AMT1  PAY_AMT2  PAY_AMT3  \\\n",
       "0  ...          0          0          0         0       689         0   \n",
       "1  ...       3272       3455       3261         0      1000      1000   \n",
       "2  ...      14331      14948      15549      1518      1500      1000   \n",
       "3  ...      28314      28959      29547      2000      2019      1200   \n",
       "4  ...      20940      19146      19131      2000     36681     10000   \n",
       "\n",
       "   PAY_AMT4  PAY_AMT5  PAY_AMT6  default payment next month  \n",
       "0         0         0         0                           1  \n",
       "1      1000         0      2000                           1  \n",
       "2      1000      1000      5000                           0  \n",
       "3      1100      1069      1000                           0  \n",
       "4      9000       689       679                           0  \n",
       "\n",
       "[5 rows x 25 columns]"
      ]
     },
     "metadata": {},
     "output_type": "display_data"
    }
   ],
   "source": [
    "print(f\"This is a snippet of the database being used\")\n",
    "display(df.head())"
   ]
  },
  {
   "cell_type": "code",
   "execution_count": 4,
   "id": "6cb3378f",
   "metadata": {
    "ExecuteTime": {
     "end_time": "2023-11-22T23:01:42.636454Z",
     "start_time": "2023-11-22T23:01:41.835622Z"
    }
   },
   "outputs": [],
   "source": [
    "from sklearn.linear_model import LogisticRegression\n",
    "from sklearn.ensemble import RandomForestClassifier\n",
    "from sklearn.svm import SVC\n",
    "from sklearn.tree import DecisionTreeClassifier\n",
    "from sklearn.model_selection import StratifiedKFold\n",
    "from sklearn.metrics import accuracy_score,precision_score,roc_auc_score,confusion_matrix, recall_score,f1_score,brier_score_loss\n",
    "from sklearn.preprocessing import StandardScaler\n",
    "from sklearn.calibration import CalibratedClassifierCV\n",
    "from hmeasure import h_score"
   ]
  },
  {
   "cell_type": "markdown",
   "id": "bdd6f4b1",
   "metadata": {},
   "source": [
    "### Model"
   ]
  },
  {
   "cell_type": "code",
   "execution_count": 5,
   "id": "4ba69e97",
   "metadata": {
    "ExecuteTime": {
     "end_time": "2023-11-22T23:01:45.265143Z",
     "start_time": "2023-11-22T23:01:45.259003Z"
    }
   },
   "outputs": [],
   "source": [
    "scaler=StandardScaler()"
   ]
  },
  {
   "cell_type": "code",
   "execution_count": 6,
   "id": "fa1af1d1",
   "metadata": {
    "ExecuteTime": {
     "end_time": "2023-11-22T23:01:45.575463Z",
     "start_time": "2023-11-22T23:01:45.565232Z"
    }
   },
   "outputs": [],
   "source": [
    "# --------------------------------------------------------\n",
    "\n",
    "# FIT THE MODEL AND EXTRACT NEW RESULTS\n",
    "\n",
    "# --------------------------------------------------------\n",
    "def get_scores(classifier,X_train, X_test,y_train,y_test):\n",
    "    classifier.fit(X_train,y_train)\n",
    "    y_pred=classifier.predict(X_test)\n",
    "    y_pred1=classifier.predict_proba(X_test)\n",
    "    accuracy=accuracy_score(y_test,y_pred).round(2)\n",
    "    auroc=roc_auc_score(y_test,y_pred)\n",
    "    conf=confusion_matrix(y_test,y_pred)\n",
    "    precision=precision_score(y_test,y_pred,pos_label=0)\n",
    "    recall=recall_score(y_test,y_pred,pos_label=0)\n",
    "    h=h_score(np.array(y_test),y_pred,pos_label=0)\n",
    "    f1=f1_score(y_test,y_pred,pos_label=0)\n",
    "    bs=brier_score_loss(y_test,y_pred1[:,0],pos_label=0)\n",
    "    return accuracy,auroc,conf,precision,recall,f1,h,bs\n"
   ]
  },
  {
   "cell_type": "code",
   "execution_count": 7,
   "id": "ebdb20f3",
   "metadata": {
    "ExecuteTime": {
     "end_time": "2023-11-22T23:01:46.117956Z",
     "start_time": "2023-11-22T23:01:46.107119Z"
    }
   },
   "outputs": [],
   "source": [
    "# --------------------------------------------------------\n",
    "\n",
    "# TRAIN THE MODEL AND EXTRACT RESULTS\n",
    "\n",
    "# --------------------------------------------------------\n",
    "def train_new_model(model,X,y,name = \"\"):\n",
    "    \n",
    "    accuracy, auroc, precision, recall, f1, h, bs = [[] for _ in range(7)]\n",
    "    conf=np.zeros([2,2])\n",
    "    kfolds=10\n",
    "    skf=StratifiedKFold(n_splits=kfolds)\n",
    "\n",
    "    for train_index, test_index in tqdm(skf.split(X, y)):\n",
    "        \n",
    "        X_train, X_test = X.iloc[train_index], X.iloc[test_index]\n",
    "        y_train, y_test = y.iloc[train_index], y.iloc[test_index]\n",
    "        scaled_X_train=scaler.fit_transform(X_train)\n",
    "        scaled_X_test=scaler.transform(X_test)\n",
    "        \n",
    "        # New Scores\n",
    "        \n",
    "        scores = get_scores(model,scaled_X_train, scaled_X_test,y_train,y_test)\n",
    "\n",
    "        accuracy.append(scores[0])\n",
    "        auroc.append(scores[1])\n",
    "        conf += scores[2]\n",
    "        precision.append(scores[3])\n",
    "        recall.append(scores[4])\n",
    "        f1.append(scores[5])\n",
    "        h.append(scores[6])\n",
    "        bs.append(scores[7])\n",
    "\n",
    "    print(f\"___________Model {name} fitted\")\n",
    "    \n",
    "    dict_results = {\"accuracy\":accuracy,\"auroc\":auroc, \"conf\":conf, \"precision\":precision,\n",
    "                   \"recall\":recall, \"f1\":f1,\"h\":h,\"bs\":bs, \"kfolds\":kfolds}\n",
    "    \n",
    "    return model, dict_results"
   ]
  },
  {
   "cell_type": "code",
   "execution_count": 8,
   "id": "d1162254",
   "metadata": {
    "ExecuteTime": {
     "end_time": "2023-11-22T23:01:47.437329Z",
     "start_time": "2023-11-22T23:01:47.429723Z"
    }
   },
   "outputs": [],
   "source": [
    "def train_all_models():\n",
    "    # Decision tree lists\n",
    "    c_dt,dt_dict  = train_new_model(c_dt,X,y,\"Decision Tree\")\n",
    "    c_lr,lr_dict  = train_new_model(c_lr,X,y,\"Logistic Regresion\")\n",
    "    c_rf,rf_dict  = train_new_model(c_rf,X,y,\"Random Forest\")\n",
    "    svm, svm_dict = train_new_model(svm,X,y,\"Support Vector Machine\")\n",
    "    print(f\"___________All Models fitted\")\n",
    "    \n",
    "    return c_dt,dt_dict,c_lr,lr_dict,c_rf,rf_dict,svm, svm_dict"
   ]
  },
  {
   "cell_type": "code",
   "execution_count": 9,
   "id": "a4747747",
   "metadata": {
    "ExecuteTime": {
     "end_time": "2023-11-22T23:01:47.928537Z",
     "start_time": "2023-11-22T23:01:47.915243Z"
    }
   },
   "outputs": [],
   "source": [
    "# --------------------------------------------------------\n",
    "\n",
    "# THESE FUNCTIONS WILL HELP US SAVE AND LOAD MODELS AND RESULTS\n",
    "\n",
    "# --------------------------------------------------------\n",
    "import pickle\n",
    "import os\n",
    "import json\n",
    "        \n",
    "def save_results(data,name = \"results_full_knn\", algo = 'KNN'):\n",
    "    \n",
    "    # Check if the directorys exist, if not, create them\n",
    "    directory = fr'models/{algo}'\n",
    "    if not os.path.exists(directory):\n",
    "        os.makedirs(directory)\n",
    "\n",
    "    file_path = os.path.join(directory, fr'{name}.json')\n",
    "    \n",
    "    with open(file_path, 'wb') as pickle_file:\n",
    "        pickle.dump(data, pickle_file)\n",
    "        \n",
    "def load_results(name = \"results_full_knn\", algo = 'KNN'):\n",
    "    doc_name = fr'models/{algo}/{name}.json'\n",
    "    with open(doc_name, 'rb') as pickle_file:\n",
    "        results = pickle.load(pickle_file)\n",
    "    return results\n",
    "\n",
    "def save_model(model,name = \"full_knn\", algo = \"KNN\"):\n",
    "    \n",
    "    # Check if the directorys exist, if not, create them\n",
    "    directory = fr'models/{algo}'\n",
    "    if not os.path.exists(directory):\n",
    "        os.makedirs(directory)\n",
    "        \n",
    "    file_path = os.path.join(directory, fr'{name}.pkl')\n",
    "        \n",
    "    with open(file_path, 'wb') as file:\n",
    "        pickle.dump(model, file)\n",
    "    print(f'----------------------------Model Saved (Path: {file_path})-----------------------------')\n",
    "    \n",
    "def load_model(name = \"full_knn\", algo = \"KNN\"):\n",
    "    doc_name = fr'models/{algo}/{name}.pkl'\n",
    "    print(f\"-----------------------------Model **{algo}** Found-----------------------------------------------------\")\n",
    "    with open(doc_name, 'rb') as file:\n",
    "        model = pickle.load(file)\n",
    "    print(f'-----------------------------Model Loaded (Path: {doc_name})-----------------------------')\n",
    "    return model\n",
    "        \n",
    "        \n",
    "def train_model(model, X, y, name = 'full_knn', algo = \"KNN\", recalculate = False):\n",
    "    doc_name = fr'models/{algo}/{name}.pkl'\n",
    "    # Check if the document exists in the folder\n",
    "    if os.path.exists(doc_name) & (not recalculate):\n",
    "        model = load_model(name,algo)\n",
    "        dict_results = load_results(f\"results_{name}\",algo)\n",
    "    else:\n",
    "        print(f'----------------------------Model **{algo}** Not Found (Path: {doc_name})-----------------------------')\n",
    "        print(\"Lets train the model!!\")\n",
    "        model, dict_results = train_new_model(model,X,y,name) \n",
    "        print(f'----------------------------Model **{algo}** Trained-----------------------------')\n",
    "        save_model(model,name,algo)\n",
    "        save_results(dict_results,f\"results_{name}\",algo)\n",
    "        \n",
    "    return model, dict_results\n",
    "    "
   ]
  },
  {
   "cell_type": "markdown",
   "id": "51416cf5",
   "metadata": {},
   "source": [
    "### Calibrate the models"
   ]
  },
  {
   "cell_type": "code",
   "execution_count": 10,
   "id": "30306530",
   "metadata": {
    "ExecuteTime": {
     "end_time": "2023-11-22T23:01:49.991280Z",
     "start_time": "2023-11-22T23:01:49.985436Z"
    }
   },
   "outputs": [],
   "source": [
    "# models with optimized hyperparameters\n",
    "dt=DecisionTreeClassifier(criterion='entropy', max_depth=6, min_samples_leaf=7, min_samples_split=12,splitter='best', class_weight={0:0.2212,1:0.7788})\n",
    "lr=LogisticRegression(solver='newton-cg',class_weight={0:0.2212,1:0.7788})\n",
    "rf=RandomForestClassifier(class_weight='balanced',n_estimators=250, max_features=3,criterion='entropy', bootstrap=True,oob_score=True)\n",
    "svm=SVC(C=3.0,kernel='rbf',random_state=0,class_weight={0: 0.2212, 1: 0.7788})\n",
    "\n",
    "# Calibrate the models\n",
    "c_dt = CalibratedClassifierCV(dt, method='isotonic', cv=3)\n",
    "c_lr = CalibratedClassifierCV(lr, method='isotonic', cv=3)\n",
    "c_rf = CalibratedClassifierCV(rf, method='isotonic', cv=3)\n",
    "c_svm = CalibratedClassifierCV(svm, method='isotonic', cv=3)"
   ]
  },
  {
   "cell_type": "code",
   "execution_count": 11,
   "id": "987ed029",
   "metadata": {
    "ExecuteTime": {
     "end_time": "2023-11-22T23:01:51.476665Z",
     "start_time": "2023-11-22T23:01:50.785013Z"
    }
   },
   "outputs": [
    {
     "data": {
      "text/html": [
       "<pre style=\"white-space:pre;overflow-x:auto;line-height:normal;font-family:Menlo,'DejaVu Sans Mono',consolas,'Courier New',monospace\">-----------------------------Model **Decision_tree** Found-----------------------------------------------------\n",
       "</pre>\n"
      ],
      "text/plain": [
       "-----------------------------Model **Decision_tree** Found-----------------------------------------------------\n"
      ]
     },
     "metadata": {},
     "output_type": "display_data"
    },
    {
     "data": {
      "text/html": [
       "<pre style=\"white-space:pre;overflow-x:auto;line-height:normal;font-family:Menlo,'DejaVu Sans Mono',consolas,'Courier New',monospace\">-----------------------------Model Loaded <span style=\"font-weight: bold\">(</span>Path: models/Decision_tree/full_DT.pkl<span style=\"font-weight: bold\">)</span>-----------------------------\n",
       "</pre>\n"
      ],
      "text/plain": [
       "-----------------------------Model Loaded \u001b[1m(\u001b[0mPath: models/Decision_tree/full_DT.pkl\u001b[1m)\u001b[0m-----------------------------\n"
      ]
     },
     "metadata": {},
     "output_type": "display_data"
    },
    {
     "data": {
      "text/html": [
       "<pre style=\"white-space:pre;overflow-x:auto;line-height:normal;font-family:Menlo,'DejaVu Sans Mono',consolas,'Courier New',monospace\">-----------------------------Model **Logistic** Found-----------------------------------------------------\n",
       "</pre>\n"
      ],
      "text/plain": [
       "-----------------------------Model **Logistic** Found-----------------------------------------------------\n"
      ]
     },
     "metadata": {},
     "output_type": "display_data"
    },
    {
     "data": {
      "text/html": [
       "<pre style=\"white-space:pre;overflow-x:auto;line-height:normal;font-family:Menlo,'DejaVu Sans Mono',consolas,'Courier New',monospace\">-----------------------------Model Loaded <span style=\"font-weight: bold\">(</span>Path: models/Logistic/full_LR.pkl<span style=\"font-weight: bold\">)</span>-----------------------------\n",
       "</pre>\n"
      ],
      "text/plain": [
       "-----------------------------Model Loaded \u001b[1m(\u001b[0mPath: models/Logistic/full_LR.pkl\u001b[1m)\u001b[0m-----------------------------\n"
      ]
     },
     "metadata": {},
     "output_type": "display_data"
    },
    {
     "data": {
      "text/html": [
       "<pre style=\"white-space:pre;overflow-x:auto;line-height:normal;font-family:Menlo,'DejaVu Sans Mono',consolas,'Courier New',monospace\">-----------------------------Model **Random_Forest** Found-----------------------------------------------------\n",
       "</pre>\n"
      ],
      "text/plain": [
       "-----------------------------Model **Random_Forest** Found-----------------------------------------------------\n"
      ]
     },
     "metadata": {},
     "output_type": "display_data"
    },
    {
     "data": {
      "text/html": [
       "<pre style=\"white-space:pre;overflow-x:auto;line-height:normal;font-family:Menlo,'DejaVu Sans Mono',consolas,'Courier New',monospace\">-----------------------------Model Loaded <span style=\"font-weight: bold\">(</span>Path: models/Random_Forest/full_RF.pkl<span style=\"font-weight: bold\">)</span>-----------------------------\n",
       "</pre>\n"
      ],
      "text/plain": [
       "-----------------------------Model Loaded \u001b[1m(\u001b[0mPath: models/Random_Forest/full_RF.pkl\u001b[1m)\u001b[0m-----------------------------\n"
      ]
     },
     "metadata": {},
     "output_type": "display_data"
    },
    {
     "data": {
      "text/html": [
       "<pre style=\"white-space:pre;overflow-x:auto;line-height:normal;font-family:Menlo,'DejaVu Sans Mono',consolas,'Courier New',monospace\">-----------------------------Model **SVM** Found-----------------------------------------------------\n",
       "</pre>\n"
      ],
      "text/plain": [
       "-----------------------------Model **SVM** Found-----------------------------------------------------\n"
      ]
     },
     "metadata": {},
     "output_type": "display_data"
    },
    {
     "data": {
      "text/html": [
       "<pre style=\"white-space:pre;overflow-x:auto;line-height:normal;font-family:Menlo,'DejaVu Sans Mono',consolas,'Courier New',monospace\">-----------------------------Model Loaded <span style=\"font-weight: bold\">(</span>Path: models/SVM/full_SVM.pkl<span style=\"font-weight: bold\">)</span>-----------------------------\n",
       "</pre>\n"
      ],
      "text/plain": [
       "-----------------------------Model Loaded \u001b[1m(\u001b[0mPath: models/SVM/full_SVM.pkl\u001b[1m)\u001b[0m-----------------------------\n"
      ]
     },
     "metadata": {},
     "output_type": "display_data"
    }
   ],
   "source": [
    "recalculate = False\n",
    "c_dt, dict_results_dt = train_model(c_dt,X,y, 'full_DT', 'Decision_tree', recalculate)\n",
    "c_lr, dict_results_lr = train_model(c_lr,X,y, 'full_LR', 'Logistic', recalculate)\n",
    "c_rf, dict_results_rf = train_model(c_rf,X,y, 'full_RF', 'Random_Forest', recalculate)\n",
    "c_svm, dict_results_svm = train_model(c_svm,X,y, 'full_SVM', 'SVM', recalculate)\n",
    "#display(c_dt.estimator)"
   ]
  },
  {
   "cell_type": "markdown",
   "id": "62d79f04",
   "metadata": {},
   "source": [
    "## Predictive performance tests"
   ]
  },
  {
   "cell_type": "code",
   "execution_count": 12,
   "id": "01079cfc",
   "metadata": {
    "ExecuteTime": {
     "end_time": "2023-11-22T23:01:54.095550Z",
     "start_time": "2023-11-22T23:01:54.087963Z"
    }
   },
   "outputs": [],
   "source": [
    "def get_results(dict_results):\n",
    "    accuracy = dict_results[\"accuracy\"]\n",
    "    auroc = dict_results[\"auroc\"]\n",
    "    precision = dict_results[\"precision\"]\n",
    "    recall = dict_results[\"recall\"]\n",
    "    f1 = dict_results[\"f1\"]\n",
    "    conf = dict_results[\"conf\"]\n",
    "    h = dict_results[\"h\"]\n",
    "    bs = dict_results[\"bs\"]\n",
    "    kfolds = dict_results[\"kfolds\"]\n",
    "    \n",
    "    return accuracy, auroc, precision, recall, f1, conf, h, bs, kfolds"
   ]
  },
  {
   "cell_type": "code",
   "execution_count": 13,
   "id": "ffc248b1",
   "metadata": {
    "ExecuteTime": {
     "end_time": "2023-11-22T23:01:54.370862Z",
     "start_time": "2023-11-22T23:01:54.355075Z"
    }
   },
   "outputs": [],
   "source": [
    "def get_final_results(dict_results):\n",
    "    accuracy = (np.array(dict_results[\"accuracy\"])).mean()\n",
    "    auroc = (np.array(dict_results[\"auroc\"])).mean()\n",
    "    precision = (np.array(dict_results[\"precision\"])).mean()\n",
    "    recall = (np.array(dict_results[\"recall\"])).mean()\n",
    "    f1 = (np.array(dict_results[\"f1\"])).mean()\n",
    "    conf = (dict_results[\"conf\"]/dict_results[\"kfolds\"]).round()\n",
    "    h = (np.array(dict_results[\"h\"])).mean()\n",
    "    bs = (np.array(dict_results[\"bs\"])).mean()\n",
    "    kfolds = dict_results[\"kfolds\"]\n",
    "    \n",
    "    return accuracy, auroc, precision, recall, f1, conf, h, bs, kfolds"
   ]
  },
  {
   "cell_type": "code",
   "execution_count": 14,
   "id": "bd0031a7",
   "metadata": {
    "ExecuteTime": {
     "end_time": "2023-11-22T23:01:54.813367Z",
     "start_time": "2023-11-22T23:01:54.805446Z"
    }
   },
   "outputs": [],
   "source": [
    "# Overall scores Decision Tree\n",
    "dt_accuracy, dt_auroc, dt_precision, dt_recall, dt_f1, dt_conf, dt_h, dt_bs, dt_kfolds = get_results(dict_results_dt)\n",
    "mdt_accuracy, mdt_auroc, mdt_precision, mdt_recall, mdt_f1, mdt_conf, mdt_h, mdt_bs, dt_kfolds = get_final_results(dict_results_dt)\n",
    "\n",
    "# overall scores logistic regression\n",
    "lr_accuracy, lr_auroc, lr_precision, lr_recall, lr_f1, lr_conf, lr_h, lr_bs, lr_kfolds = get_results(dict_results_lr)\n",
    "mlr_accuracy, mlr_auroc, mlr_precision, mlr_recall, mlr_f1, mlr_conf, mlr_h, mlr_bs, lr_kfolds = get_final_results(dict_results_lr)\n",
    "\n",
    "# Overal scores Random Forest\n",
    "rf_accuracy, rf_auroc, rf_precision, rf_recall, rf_f1, rf_conf, rf_h, rf_bs, rf_kfolds = get_results(dict_results_rf)\n",
    "mrf_accuracy, mrf_auroc, mrf_precision, mrf_recall, mrf_f1, mrf_conf, mrf_h, mrf_bs, rf_kfolds = get_final_results(dict_results_rf)\n",
    "\n",
    "# Overal scores Support Vector Machine\n",
    "svm_accuracy, svm_auroc, svm_precision, svm_recall, svm_f1, svm_conf, svm_h, svm_bs, svm_kfolds = get_results(dict_results_svm)\n",
    "msvm_accuracy, msvm_auroc, msvm_precision, msvm_recall, msvm_f1, msvm_conf, msvm_h, msvm_bs, svm_kfolds = get_final_results(dict_results_svm)\n"
   ]
  },
  {
   "cell_type": "code",
   "execution_count": 15,
   "id": "58120f75",
   "metadata": {
    "ExecuteTime": {
     "end_time": "2023-11-22T23:01:55.706174Z",
     "start_time": "2023-11-22T23:01:55.529149Z"
    }
   },
   "outputs": [
    {
     "data": {
      "text/html": [
       "<pre style=\"white-space:pre;overflow-x:auto;line-height:normal;font-family:Menlo,'DejaVu Sans Mono',consolas,'Courier New',monospace\">Thise are the results of the Predictive Performance tests:\n",
       "</pre>\n"
      ],
      "text/plain": [
       "Thise are the results of the Predictive Performance tests:\n"
      ]
     },
     "metadata": {},
     "output_type": "display_data"
    },
    {
     "data": {
      "text/html": [
       "<p><center></p>\n",
       "<table>\n",
       "<thead>\n",
       "<tr>\n",
       "<th>Model</th>\n",
       "<th>Accuracy</th>\n",
       "<th>AUROC</th>\n",
       "<th>Precision</th>\n",
       "<th>Recall</th>\n",
       "<th>F1</th>\n",
       "<th>H-measure</th>\n",
       "<th>Brier Score</th>\n",
       "<th>Brier Skill Score</th>\n",
       "</tr>\n",
       "</thead>\n",
       "<tbody>\n",
       "<tr>\n",
       "<td>Decision Tree</td>\n",
       "<td>0.798</td>\n",
       "<td>0.561</td>\n",
       "<td>0.802</td>\n",
       "<td>0.983</td>\n",
       "<td>0.883</td>\n",
       "<td>0.000</td>\n",
       "<td>0.144</td>\n",
       "<td>0.856</td>\n",
       "</tr>\n",
       "<tr>\n",
       "<td>Logistic regression</td>\n",
       "<td>0.815</td>\n",
       "<td>0.654</td>\n",
       "<td>0.839</td>\n",
       "<td>0.943</td>\n",
       "<td>0.888</td>\n",
       "<td>0.000</td>\n",
       "<td>0.142</td>\n",
       "<td>0.858</td>\n",
       "</tr>\n",
       "<tr>\n",
       "<td>Support Vector Machine</td>\n",
       "<td>0.808</td>\n",
       "<td>0.665</td>\n",
       "<td>0.846</td>\n",
       "<td>0.920</td>\n",
       "<td>0.881</td>\n",
       "<td>0.000</td>\n",
       "<td>0.140</td>\n",
       "<td>0.860</td>\n",
       "</tr>\n",
       "<tr>\n",
       "<td>Random Forest</td>\n",
       "<td>0.811</td>\n",
       "<td>0.665</td>\n",
       "<td>0.846</td>\n",
       "<td>0.930</td>\n",
       "<td>0.885</td>\n",
       "<td>0.000</td>\n",
       "<td>0.141</td>\n",
       "<td>0.859</td>\n",
       "</tr>\n",
       "</tbody>\n",
       "</table>\n",
       "<p></center></p>"
      ],
      "text/plain": [
       "<IPython.core.display.HTML object>"
      ]
     },
     "metadata": {},
     "output_type": "display_data"
    }
   ],
   "source": [
    "#Brier Skill Score Decision Tree\n",
    "bss=(1-(mdt_bs/1)).round(3)\n",
    "\n",
    "#Brier Skill Score Logistic Regression\n",
    "bssl=(1-(mlr_bs/1)).round(3)\n",
    "\n",
    "#Brier Skill Score Support Vector Machine\n",
    "bsss=(1-(msvm_bs/1)).round(3)\n",
    "\n",
    "#Brier Skill Score Random Forest\n",
    "bssr=(1-(mrf_bs/1)).round(3)\n",
    "\n",
    "s = f\"\"\"\n",
    "<center>\n",
    "\n",
    "| Model  | Accuracy | AUROC | Precision | Recall | F1 | H-measure | Brier Score | Brier Skill Score |\n",
    "| ------------- | -------------| -------------| -------------| -------------| -------------| -------------| -------------| -------------|\n",
    "| Decision Tree   |  {mdt_accuracy:.3f} |  {mdt_auroc:.3f} |  {mdt_precision:.3f} |  {mdt_recall:.3f} |  {mdt_f1:.3f} |  {mdt_h:.3f} |  {mdt_bs:.3f} |  {bss:.3f} |\n",
    "| Logistic regression   |  {mlr_accuracy:.3f} |  {mlr_auroc:.3f} |  {mlr_precision:.3f} |  {mlr_recall:.3f} |  {mlr_f1:.3f} |  {mlr_h:.3f} |  {mlr_bs:.3f} |  {bssl:.3f} |\n",
    "| Support Vector Machine   |  {msvm_accuracy:.3f} |  {msvm_auroc:.3f} |  {msvm_precision:.3f} |  {msvm_recall:.3f} |  {msvm_f1:.3f} |  {msvm_h:.3f} |  {msvm_bs:.3f} |  {bsss:.3f} |\n",
    "| Random Forest   |  {mrf_accuracy:.3f} |  {mrf_auroc:.3f} |  {mrf_precision:.3f} |  {mrf_recall:.3f} |  {mrf_f1:.3f} |  {mrf_h:.3f} |  {mrf_bs:.3f} |  {bssr:.3f} |\n",
    "\n",
    "</center>\n",
    "\"\"\"\n",
    "print(f\"Thise are the results of the Predictive Performance tests:\")\n",
    "html = markdown(s, extensions=[\"tables\"])\n",
    "display(HTML(html))"
   ]
  },
  {
   "cell_type": "code",
   "execution_count": 16,
   "id": "67ffd6e4",
   "metadata": {
    "ExecuteTime": {
     "end_time": "2023-11-22T23:01:56.415361Z",
     "start_time": "2023-11-22T23:01:56.397364Z"
    }
   },
   "outputs": [
    {
     "data": {
      "text/html": [
       "<p><center></p>\n",
       "<div style=\"display: flex;\">\n",
       "\n",
       "<div style=\"margin-right: 20px;\">\n",
       "  <table>\n",
       "    <tr>\"Decision Tree Confucion matrix\"\n",
       "      <th></th>\n",
       "      <th>Yes</th>\n",
       "      <th>No</th>\n",
       "    </tr>\n",
       "    <tr>\n",
       "      <th>Yes</th>\n",
       "      <td>2296.0</td>\n",
       "      <td>40.0</td>\n",
       "    </tr>\n",
       "    <tr>\n",
       "      <th>No</th>\n",
       "      <td>570.0</td>\n",
       "      <td>93.0</td>\n",
       "    </tr>\n",
       "  </table>\n",
       "</div>\n",
       "\n",
       "<div style=\"margin-right: 20px;\">\n",
       "  <table>\n",
       "    <tr>\"Logistic Regression Confucion matrix\"\n",
       "      <th></th>\n",
       "      <th>Yes</th>\n",
       "      <th>No</th>\n",
       "    </tr>\n",
       "    <tr>\n",
       "      <th>Yes</th>\n",
       "      <td>2204.0</td>\n",
       "      <td>133.0</td>\n",
       "    </tr>\n",
       "    <tr>\n",
       "      <th>No</th>\n",
       "      <td>422.0</td>\n",
       "      <td>242.0</td>\n",
       "    </tr>\n",
       "  </table>\n",
       "</div>\n",
       "\n",
       "<div style=\"margin-right: 20px;\">\n",
       "  <table>\n",
       "    <tr>\"Support Vector Machine Confucion matrix\"\n",
       "      <th></th>\n",
       "      <th>Yes</th>\n",
       "      <th>No</th>\n",
       "    </tr>\n",
       "    <tr>\n",
       "      <th>Yes</th>\n",
       "      <td>2150.0</td>\n",
       "      <td>186.0</td>\n",
       "    </tr>\n",
       "    <tr>\n",
       "      <th>No</th>\n",
       "      <td>391.0</td>\n",
       "      <td>272.0</td>\n",
       "    </tr>\n",
       "  </table>\n",
       "</div>\n",
       "\n",
       "<div>\n",
       "  <table>\n",
       "    <tr>\"Random Forest Confucion matrix\"\n",
       "      <th></th>\n",
       "      <th>Yes</th>\n",
       "      <th>No</th>\n",
       "    </tr>\n",
       "    <tr>\n",
       "      <th>Yes</th>\n",
       "      <td>2172.0</td>\n",
       "      <td>164.0</td>\n",
       "    </tr>\n",
       "    <tr>\n",
       "      <th>No</th>\n",
       "      <td>398.0</td>\n",
       "      <td>266.0</td>\n",
       "    </tr>\n",
       "  </table>\n",
       "</div>\n",
       "\n",
       "</div>\n",
       "<p></center></p>"
      ],
      "text/plain": [
       "<IPython.core.display.HTML object>"
      ]
     },
     "metadata": {},
     "output_type": "display_data"
    }
   ],
   "source": [
    "from markdown import markdown\n",
    "from IPython.display import Markdown, HTML\n",
    "\n",
    "# Markdown tables with titles\n",
    "s = f\"\"\"\n",
    "<center>\n",
    "<div style=\"display: flex;\">\n",
    "\n",
    "<div style=\"margin-right: 20px;\">\n",
    "  <table>\n",
    "    <tr>\"Decision Tree Confucion matrix\"\n",
    "      <th></th>\n",
    "      <th>Yes</th>\n",
    "      <th>No</th>\n",
    "    </tr>\n",
    "    <tr>\n",
    "      <th>Yes</th>\n",
    "      <td>{mdt_conf[0][0]}</td>\n",
    "      <td>{mdt_conf[0][1]}</td>\n",
    "    </tr>\n",
    "    <tr>\n",
    "      <th>No</th>\n",
    "      <td>{mdt_conf[1][0]}</td>\n",
    "      <td>{mdt_conf[1][1]}</td>\n",
    "    </tr>\n",
    "  </table>\n",
    "</div>\n",
    "\n",
    "<div style=\"margin-right: 20px;\">\n",
    "  <table>\n",
    "    <tr>\"Logistic Regression Confucion matrix\"\n",
    "      <th></th>\n",
    "      <th>Yes</th>\n",
    "      <th>No</th>\n",
    "    </tr>\n",
    "    <tr>\n",
    "      <th>Yes</th>\n",
    "      <td>{mlr_conf[0][0]}</td>\n",
    "      <td>{mlr_conf[0][1]}</td>\n",
    "    </tr>\n",
    "    <tr>\n",
    "      <th>No</th>\n",
    "      <td>{mlr_conf[1][0]}</td>\n",
    "      <td>{mlr_conf[1][1]}</td>\n",
    "    </tr>\n",
    "  </table>\n",
    "</div>\n",
    "\n",
    "<div style=\"margin-right: 20px;\">\n",
    "  <table>\n",
    "    <tr>\"Support Vector Machine Confucion matrix\"\n",
    "      <th></th>\n",
    "      <th>Yes</th>\n",
    "      <th>No</th>\n",
    "    </tr>\n",
    "    <tr>\n",
    "      <th>Yes</th>\n",
    "      <td>{msvm_conf[0][0]}</td>\n",
    "      <td>{msvm_conf[0][1]}</td>\n",
    "    </tr>\n",
    "    <tr>\n",
    "      <th>No</th>\n",
    "      <td>{msvm_conf[1][0]}</td>\n",
    "      <td>{msvm_conf[1][1]}</td>\n",
    "    </tr>\n",
    "  </table>\n",
    "</div>\n",
    "\n",
    "<div>\n",
    "  <table>\n",
    "    <tr>\"Random Forest Confucion matrix\"\n",
    "      <th></th>\n",
    "      <th>Yes</th>\n",
    "      <th>No</th>\n",
    "    </tr>\n",
    "    <tr>\n",
    "      <th>Yes</th>\n",
    "      <td>{mrf_conf[0][0]}</td>\n",
    "      <td>{mrf_conf[0][1]}</td>\n",
    "    </tr>\n",
    "    <tr>\n",
    "      <th>No</th>\n",
    "      <td>{mrf_conf[1][0]}</td>\n",
    "      <td>{mrf_conf[1][1]}</td>\n",
    "    </tr>\n",
    "  </table>\n",
    "</div>\n",
    "\n",
    "</div>\n",
    "</center>\n",
    "\"\"\"\n",
    "\n",
    "\n",
    "# Display the Markdown tables with titles\n",
    "display(HTML(markdown(s, extensions=[\"tables\"])))\n"
   ]
  },
  {
   "cell_type": "markdown",
   "id": "229d96c3",
   "metadata": {},
   "source": [
    "## Interpretability"
   ]
  },
  {
   "cell_type": "markdown",
   "id": "7b25b9a6",
   "metadata": {},
   "source": [
    "### SHAP"
   ]
  },
  {
   "cell_type": "code",
   "execution_count": 17,
   "id": "121cbd57",
   "metadata": {
    "ExecuteTime": {
     "end_time": "2023-11-22T23:02:03.532123Z",
     "start_time": "2023-11-22T23:01:58.259929Z"
    }
   },
   "outputs": [],
   "source": [
    "import shap\n",
    "from sklearn.model_selection import train_test_split\n",
    "def SHAP_model_training(model,X,y,name,algo):\n",
    "    doc_name = fr'models/{algo}/{name}.json'\n",
    "    \n",
    "    if os.path.exists(doc_name) & (not recalculate):\n",
    "        shap_values = load_results(name,algo)\n",
    "    else:\n",
    "        print(f\"-----------SHAP values for {algo} not found, START CALCULATION-------------\")\n",
    "        X_train, X_test, y_train, y_test = train_test_split(X, y, test_size=0.2, random_state=42)\n",
    "        scaled_X_train=scaler.fit_transform(X_train)\n",
    "        scaled_X_test=scaler.transform(X_test)\n",
    "\n",
    "        x_sub = shap.sample(scaled_X_train,100)\n",
    "        explainer = shap.Explainer(model.predict_proba, x_sub)\n",
    "        if algo == \"SVM\":\n",
    "            scaled_X_test = scaled_X_test[:100]\n",
    "        shap_values = explainer(scaled_X_test)\n",
    "        #shap.plots.beeswarm(shap_values[:,:])\n",
    "\n",
    "        print(\"SHAP Values fitted\")\n",
    "        save_results(shap_values,name,algo)\n",
    "    print(f\"-----------SHAP values for {algo} FOUND and LOADED -------------\")\n",
    "    return shap_values"
   ]
  },
  {
   "cell_type": "code",
   "execution_count": 18,
   "id": "4ea3061b",
   "metadata": {
    "ExecuteTime": {
     "end_time": "2023-11-22T23:02:03.602184Z",
     "start_time": "2023-11-22T23:02:03.534815Z"
    }
   },
   "outputs": [
    {
     "data": {
      "text/html": [
       "<pre style=\"white-space:pre;overflow-x:auto;line-height:normal;font-family:Menlo,'DejaVu Sans Mono',consolas,'Courier New',monospace\">-----------SHAP values for Decision_tree FOUND and LOADED -------------\n",
       "</pre>\n"
      ],
      "text/plain": [
       "-----------SHAP values for Decision_tree FOUND and LOADED -------------\n"
      ]
     },
     "metadata": {},
     "output_type": "display_data"
    },
    {
     "data": {
      "text/html": [
       "<pre style=\"white-space:pre;overflow-x:auto;line-height:normal;font-family:Menlo,'DejaVu Sans Mono',consolas,'Courier New',monospace\">-----------SHAP values for Logistic FOUND and LOADED -------------\n",
       "</pre>\n"
      ],
      "text/plain": [
       "-----------SHAP values for Logistic FOUND and LOADED -------------\n"
      ]
     },
     "metadata": {},
     "output_type": "display_data"
    },
    {
     "data": {
      "text/html": [
       "<pre style=\"white-space:pre;overflow-x:auto;line-height:normal;font-family:Menlo,'DejaVu Sans Mono',consolas,'Courier New',monospace\">-----------SHAP values for Random_Forest FOUND and LOADED -------------\n",
       "</pre>\n"
      ],
      "text/plain": [
       "-----------SHAP values for Random_Forest FOUND and LOADED -------------\n"
      ]
     },
     "metadata": {},
     "output_type": "display_data"
    },
    {
     "data": {
      "text/html": [
       "<pre style=\"white-space:pre;overflow-x:auto;line-height:normal;font-family:Menlo,'DejaVu Sans Mono',consolas,'Courier New',monospace\">-----------SHAP values for SVM FOUND and LOADED -------------\n",
       "</pre>\n"
      ],
      "text/plain": [
       "-----------SHAP values for SVM FOUND and LOADED -------------\n"
      ]
     },
     "metadata": {},
     "output_type": "display_data"
    }
   ],
   "source": [
    "shap_values_dt = SHAP_model_training(c_dt, X, y,\"shap_dt\",\"Decision_tree\")\n",
    "shap_values_lr = SHAP_model_training(c_lr, X, y,\"shap_LR\",\"Logistic\")\n",
    "shap_values_c_rf = SHAP_model_training(c_rf, X, y,\"shap_RF\",\"Random_Forest\")\n",
    "shap_values_svm = SHAP_model_training(c_svm, X, y,\"shap_SVM\",\"SVM\")"
   ]
  },
  {
   "cell_type": "code",
   "execution_count": 21,
   "id": "11dfbd01",
   "metadata": {
    "ExecuteTime": {
     "end_time": "2023-11-22T23:04:14.226239Z",
     "start_time": "2023-11-22T23:04:13.071629Z"
    }
   },
   "outputs": [
    {
     "data": {
      "image/png": "[encoded data removed]",
      "text/plain": [
       "<Figure size 800x550 with 2 Axes>"
      ]
     },
     "metadata": {},
     "output_type": "display_data"
    }
   ],
   "source": [
    "#shap.plots.beeswarm(shap_values_dt[:,:,0],max_display=10)\n",
    "#shap.plots.beeswarm(shap_values_lr[:,:,0],max_display=10)\n",
    "shap.plots.beeswarm(shap_values_c_rf[:,:,0],max_display=10)\n",
    "#shap.plots.beeswarm(shap_values_svm[:,:,0],max_display=10)"
   ]
  },
  {
   "cell_type": "markdown",
   "id": "cf33a677",
   "metadata": {},
   "source": [
    "<table style=\"width: 100%;\">\n",
    "  <tr>\n",
    "      <td style=\"text-align: left;\"><td>\n",
    "    <td style=\"text-align: right;\"><img src=\"https://upload.wikimedia.org/wikipedia/commons/e/e6/Logo_Universitat_de_Barcelona.png\" alt=\"University of Barcelona Logo\" width=\"200\" /></td>\n",
    "  </tr>\n",
    "</table>"
   ]
  }
 ],
 "metadata": {
  "hide_input": false,
  "kernelspec": {
   "display_name": "Python 3 (ipykernel)",
   "language": "python",
   "name": "python3"
  },
  "language_info": {
   "codemirror_mode": {
    "name": "ipython",
    "version": 3
   },
   "file_extension": ".py",
   "mimetype": "text/x-python",
   "name": "python",
   "nbconvert_exporter": "python",
   "pygments_lexer": "ipython3",
   "version": "3.11.4"
  }
 },
 "nbformat": 4,
 "nbformat_minor": 5
}
